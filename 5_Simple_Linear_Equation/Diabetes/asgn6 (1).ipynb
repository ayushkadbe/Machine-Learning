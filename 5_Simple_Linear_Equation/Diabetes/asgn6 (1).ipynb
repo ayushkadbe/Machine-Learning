{
  "nbformat": 4,
  "nbformat_minor": 0,
  "metadata": {
    "colab": {
      "provenance": []
    },
    "kernelspec": {
      "name": "python3",
      "display_name": "Python 3"
    },
    "language_info": {
      "name": "python"
    }
  },
  "cells": [
    {
      "cell_type": "code",
      "execution_count": null,
      "metadata": {
        "colab": {
          "base_uri": "https://localhost:8080/"
        },
        "id": "t7bQubPDZd3m",
        "outputId": "69dec994-10ab-404c-aa62-3c8097a65ea0"
      },
      "outputs": [
        {
          "output_type": "stream",
          "name": "stdout",
          "text": [
            "Drive already mounted at /content/drive; to attempt to forcibly remount, call drive.mount(\"/content/drive\", force_remount=True).\n"
          ]
        }
      ],
      "source": [
        "from google.colab import drive\n",
        "drive.mount('/content/drive')"
      ]
    },
    {
      "cell_type": "markdown",
      "source": [
        "#importing libraries"
      ],
      "metadata": {
        "id": "u1t954-FfMNL"
      }
    },
    {
      "cell_type": "code",
      "source": [
        "import pandas as pd\n",
        "import numpy as np\n",
        "import matplotlib.pyplot as plt\n",
        "from sklearn.metrics import mean_squared_error, r2_score"
      ],
      "metadata": {
        "id": "uYaM_ETFfWhl"
      },
      "execution_count": null,
      "outputs": []
    },
    {
      "cell_type": "markdown",
      "source": [
        "#Loading and preparing dataset"
      ],
      "metadata": {
        "id": "ePRO71VsgHM6"
      }
    },
    {
      "cell_type": "code",
      "source": [
        "score_dataset = pd.read_csv('/content/drive/MyDrive/Colab Notebooks/Lab on ml/score.csv')\n",
        "X=score_dataset['Hours']\n",
        "Y=score_dataset['Scores']\n",
        "print(X,Y)"
      ],
      "metadata": {
        "colab": {
          "base_uri": "https://localhost:8080/"
        },
        "id": "OkwDd3UFgG2A",
        "outputId": "1cf58900-373e-4c40-92b0-7e6f57d54d6f"
      },
      "execution_count": null,
      "outputs": [
        {
          "output_type": "stream",
          "name": "stdout",
          "text": [
            "0     2.5\n",
            "1     5.1\n",
            "2     3.2\n",
            "3     8.5\n",
            "4     3.5\n",
            "5     1.5\n",
            "6     9.2\n",
            "7     5.5\n",
            "8     8.3\n",
            "9     2.7\n",
            "10    7.7\n",
            "11    5.9\n",
            "12    4.5\n",
            "13    3.3\n",
            "14    1.1\n",
            "15    8.9\n",
            "16    2.5\n",
            "17    1.9\n",
            "18    6.1\n",
            "19    7.4\n",
            "20    2.7\n",
            "21    4.8\n",
            "22    3.8\n",
            "23    6.9\n",
            "24    7.8\n",
            "Name: Hours, dtype: float64 0     21\n",
            "1     47\n",
            "2     27\n",
            "3     75\n",
            "4     30\n",
            "5     20\n",
            "6     88\n",
            "7     60\n",
            "8     81\n",
            "9     25\n",
            "10    85\n",
            "11    62\n",
            "12    41\n",
            "13    42\n",
            "14    17\n",
            "15    95\n",
            "16    30\n",
            "17    24\n",
            "18    67\n",
            "19    69\n",
            "20    30\n",
            "21    54\n",
            "22    35\n",
            "23    76\n",
            "24    86\n",
            "Name: Scores, dtype: int64\n"
          ]
        }
      ]
    },
    {
      "cell_type": "markdown",
      "source": [
        "#Split dataset into Training and Testing dataset"
      ],
      "metadata": {
        "id": "IFyUkU7chh85"
      }
    },
    {
      "cell_type": "code",
      "source": [
        "from sklearn.model_selection import train_test_split\n",
        "X_train, X_test, Y_train , Y_test = train_test_split(X,Y, test_size=0.2,random_state=42)"
      ],
      "metadata": {
        "id": "nS4yGa4nhocE"
      },
      "execution_count": null,
      "outputs": []
    },
    {
      "cell_type": "markdown",
      "source": [
        "#creating a model"
      ],
      "metadata": {
        "id": "HIWTCoqZkhFI"
      }
    },
    {
      "cell_type": "code",
      "source": [
        "from sklearn.linear_model import LinearRegression\n",
        "model= LinearRegression()\n",
        "model.fit(X_train.values.reshape(-1,1),Y_train)"
      ],
      "metadata": {
        "colab": {
          "base_uri": "https://localhost:8080/",
          "height": 75
        },
        "id": "ThR-jGUdnc3g",
        "outputId": "67fc4f3a-d4e5-49b1-8603-4a1805caa2ef"
      },
      "execution_count": null,
      "outputs": [
        {
          "output_type": "execute_result",
          "data": {
            "text/plain": [
              "LinearRegression()"
            ],
            "text/html": [
              "<style>#sk-container-id-5 {color: black;background-color: white;}#sk-container-id-5 pre{padding: 0;}#sk-container-id-5 div.sk-toggleable {background-color: white;}#sk-container-id-5 label.sk-toggleable__label {cursor: pointer;display: block;width: 100%;margin-bottom: 0;padding: 0.3em;box-sizing: border-box;text-align: center;}#sk-container-id-5 label.sk-toggleable__label-arrow:before {content: \"▸\";float: left;margin-right: 0.25em;color: #696969;}#sk-container-id-5 label.sk-toggleable__label-arrow:hover:before {color: black;}#sk-container-id-5 div.sk-estimator:hover label.sk-toggleable__label-arrow:before {color: black;}#sk-container-id-5 div.sk-toggleable__content {max-height: 0;max-width: 0;overflow: hidden;text-align: left;background-color: #f0f8ff;}#sk-container-id-5 div.sk-toggleable__content pre {margin: 0.2em;color: black;border-radius: 0.25em;background-color: #f0f8ff;}#sk-container-id-5 input.sk-toggleable__control:checked~div.sk-toggleable__content {max-height: 200px;max-width: 100%;overflow: auto;}#sk-container-id-5 input.sk-toggleable__control:checked~label.sk-toggleable__label-arrow:before {content: \"▾\";}#sk-container-id-5 div.sk-estimator input.sk-toggleable__control:checked~label.sk-toggleable__label {background-color: #d4ebff;}#sk-container-id-5 div.sk-label input.sk-toggleable__control:checked~label.sk-toggleable__label {background-color: #d4ebff;}#sk-container-id-5 input.sk-hidden--visually {border: 0;clip: rect(1px 1px 1px 1px);clip: rect(1px, 1px, 1px, 1px);height: 1px;margin: -1px;overflow: hidden;padding: 0;position: absolute;width: 1px;}#sk-container-id-5 div.sk-estimator {font-family: monospace;background-color: #f0f8ff;border: 1px dotted black;border-radius: 0.25em;box-sizing: border-box;margin-bottom: 0.5em;}#sk-container-id-5 div.sk-estimator:hover {background-color: #d4ebff;}#sk-container-id-5 div.sk-parallel-item::after {content: \"\";width: 100%;border-bottom: 1px solid gray;flex-grow: 1;}#sk-container-id-5 div.sk-label:hover label.sk-toggleable__label {background-color: #d4ebff;}#sk-container-id-5 div.sk-serial::before {content: \"\";position: absolute;border-left: 1px solid gray;box-sizing: border-box;top: 0;bottom: 0;left: 50%;z-index: 0;}#sk-container-id-5 div.sk-serial {display: flex;flex-direction: column;align-items: center;background-color: white;padding-right: 0.2em;padding-left: 0.2em;position: relative;}#sk-container-id-5 div.sk-item {position: relative;z-index: 1;}#sk-container-id-5 div.sk-parallel {display: flex;align-items: stretch;justify-content: center;background-color: white;position: relative;}#sk-container-id-5 div.sk-item::before, #sk-container-id-5 div.sk-parallel-item::before {content: \"\";position: absolute;border-left: 1px solid gray;box-sizing: border-box;top: 0;bottom: 0;left: 50%;z-index: -1;}#sk-container-id-5 div.sk-parallel-item {display: flex;flex-direction: column;z-index: 1;position: relative;background-color: white;}#sk-container-id-5 div.sk-parallel-item:first-child::after {align-self: flex-end;width: 50%;}#sk-container-id-5 div.sk-parallel-item:last-child::after {align-self: flex-start;width: 50%;}#sk-container-id-5 div.sk-parallel-item:only-child::after {width: 0;}#sk-container-id-5 div.sk-dashed-wrapped {border: 1px dashed gray;margin: 0 0.4em 0.5em 0.4em;box-sizing: border-box;padding-bottom: 0.4em;background-color: white;}#sk-container-id-5 div.sk-label label {font-family: monospace;font-weight: bold;display: inline-block;line-height: 1.2em;}#sk-container-id-5 div.sk-label-container {text-align: center;}#sk-container-id-5 div.sk-container {/* jupyter's `normalize.less` sets `[hidden] { display: none; }` but bootstrap.min.css set `[hidden] { display: none !important; }` so we also need the `!important` here to be able to override the default hidden behavior on the sphinx rendered scikit-learn.org. See: https://github.com/scikit-learn/scikit-learn/issues/21755 */display: inline-block !important;position: relative;}#sk-container-id-5 div.sk-text-repr-fallback {display: none;}</style><div id=\"sk-container-id-5\" class=\"sk-top-container\"><div class=\"sk-text-repr-fallback\"><pre>LinearRegression()</pre><b>In a Jupyter environment, please rerun this cell to show the HTML representation or trust the notebook. <br />On GitHub, the HTML representation is unable to render, please try loading this page with nbviewer.org.</b></div><div class=\"sk-container\" hidden><div class=\"sk-item\"><div class=\"sk-estimator sk-toggleable\"><input class=\"sk-toggleable__control sk-hidden--visually\" id=\"sk-estimator-id-5\" type=\"checkbox\" checked><label for=\"sk-estimator-id-5\" class=\"sk-toggleable__label sk-toggleable__label-arrow\">LinearRegression</label><div class=\"sk-toggleable__content\"><pre>LinearRegression()</pre></div></div></div></div></div>"
            ]
          },
          "metadata": {},
          "execution_count": 78
        }
      ]
    },
    {
      "cell_type": "markdown",
      "source": [
        "#Make Predications"
      ],
      "metadata": {
        "id": "znYc2EWsob2M"
      }
    },
    {
      "cell_type": "code",
      "source": [
        "slope = model.coef_\n",
        "intercept = model.intercept_\n",
        "print(f'Slope: {slope[0]}, Intercept: {intercept[0]}')\n",
        "Y_pred = model.predict(X_test)\n",
        "print(f'Predictions: {Y_pred}')"
      ],
      "metadata": {
        "colab": {
          "base_uri": "https://localhost:8080/"
        },
        "id": "FZYH0eIgoTo9",
        "outputId": "fcb32714-a16c-452c-ff04-5a0c30052483"
      },
      "execution_count": null,
      "outputs": [
        {
          "output_type": "stream",
          "name": "stdout",
          "text": [
            "Slope: [9.68207815], Intercept: 2.826892353899737\n",
            "Predictions: [[83.18814104]\n",
            " [27.03208774]\n",
            " [27.03208774]\n",
            " [69.63323162]\n",
            " [59.95115347]]\n"
          ]
        }
      ]
    },
    {
      "cell_type": "code",
      "source": [
        "Y_pred = model.predict(X)\n",
        "r_squared = r2_score(Y, Y_pred)\n",
        "mse = mean_squared_error(Y, Y_pred)\n",
        "print(f'R² Score: {r_squared}, MSE: {mse}')"
      ],
      "metadata": {
        "colab": {
          "base_uri": "https://localhost:8080/"
        },
        "id": "R26KnivEqR4V",
        "outputId": "a8824352-b904-47eb-f925-a7caef1eb478"
      },
      "execution_count": null,
      "outputs": [
        {
          "output_type": "stream",
          "name": "stdout",
          "text": [
            "R² Score: 0.9528345204324373, MSE: 28.952510766356536\n"
          ]
        }
      ]
    },
    {
      "cell_type": "markdown",
      "source": [
        "#Visualise the data"
      ],
      "metadata": {
        "id": "gvwv3_uLg_bk"
      }
    },
    {
      "cell_type": "code",
      "source": [
        "plt.scatter(X_train,Y_train)\n",
        "plt.plot(X,model.predict(X),color='red' ,linewidth=2)\n",
        "plt.xlabel(\"Hours\")\n",
        "plt.ylabel(\"Score\")\n",
        "plt.show()"
      ],
      "metadata": {
        "colab": {
          "base_uri": "https://localhost:8080/",
          "height": 449
        },
        "id": "XhCkjoHMhRxg",
        "outputId": "5afa6e55-7909-474b-935d-575439ce655a"
      },
      "execution_count": null,
      "outputs": [
        {
          "output_type": "display_data",
          "data": {
            "text/plain": [
              "<Figure size 640x480 with 1 Axes>"
            ],
            "image/png": "[encoded data removed]"
          },
          "metadata": {}
        }
      ]
    }
  ]
}