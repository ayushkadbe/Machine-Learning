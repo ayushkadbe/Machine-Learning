{
 "cells": [
  {
   "cell_type": "code",
   "execution_count": 3,
   "id": "4a2df3d3",
   "metadata": {},
   "outputs": [],
   "source": [
    "import numpy as np\n",
    "import matplotlib.pyplot as plt\n",
    "import pandas as pd"
   ]
  },
  {
   "cell_type": "code",
   "execution_count": 32,
   "id": "774895e4",
   "metadata": {},
   "outputs": [],
   "source": [
    "dataset=pd.read_csv(\"50_Startups.csv\")\n",
    "dataset\n",
    "X = dataset.iloc[:, 0:3].values\n",
    "Y= dataset.iloc[:,4].values\n"
   ]
  },
  {
   "cell_type": "code",
   "execution_count": 39,
   "id": "485b6648",
   "metadata": {},
   "outputs": [
    {
     "data": {
      "text/plain": [
       "array([ 66051.52, 182645.56, 118148.2 ])"
      ]
     },
     "execution_count": 39,
     "metadata": {},
     "output_type": "execute_result"
    }
   ],
   "source": [
    "from sklearn.model_selection import train_test_split\n",
    "X_train, X_test, y_train, y_test = train_test_split(X, Y, test_size = 0.3, random_state = 0)\n",
    "X_test[0]"
   ]
  },
  {
   "cell_type": "code",
   "execution_count": 25,
   "id": "8762bf3b",
   "metadata": {},
   "outputs": [],
   "source": [
    "from sklearn.linear_model import LinearRegression\n",
    "regressor = LinearRegression()\n",
    "regressor.fit(X_train, y_train)\n",
    "y_pred=regressor.predict(X_test)"
   ]
  },
  {
   "cell_type": "markdown",
   "id": "cdcbe8b0",
   "metadata": {},
   "source": [
    "# Residual plot "
   ]
  },
  {
   "cell_type": "code",
   "execution_count": 76,
   "id": "d4b48127",
   "metadata": {},
   "outputs": [
    {
     "data": {
      "image/png": "[encoded data removed]",
      "text/plain": [
       "<Figure size 640x480 with 1 Axes>"
      ]
     },
     "metadata": {},
     "output_type": "display_data"
    }
   ],
   "source": [
    " # Residuals\n",
    "residuals =y_test-y_pred\n",
    "\n",
    "#  plot residulal plot\n",
    "plt.scatter(X_test[:,0], residuals, color = 'red')\n",
    "plt.xlabel('R&D Spend (independent variable)')\n",
    "plt.ylabel('residuals(predicted profit- actual profit)')\n",
    "plt.title('residual plot')\n",
    "plt.show()\n"
   ]
  },
  {
   "cell_type": "markdown",
   "id": "5c2db41b",
   "metadata": {},
   "source": [
    "# Mean Absolute Error\n",
    "Mae is measured as average of the absolute difference between actual valueas and the predictions2.png]"
   ]
  },
  {
   "cell_type": "code",
   "execution_count": 30,
   "id": "9197371c",
   "metadata": {},
   "outputs": [
    {
     "data": {
      "text/plain": [
       "6489.660170486648"
      ]
     },
     "execution_count": 30,
     "metadata": {},
     "output_type": "execute_result"
    }
   ],
   "source": [
    "from sklearn.metrics import mean_absolute_error\n",
    "mae = mean_absolute_error(y_test, y_pred)\n",
    "mae"
   ]
  },
  {
   "cell_type": "markdown",
   "id": "ab9c5ec5",
   "metadata": {},
   "source": [
    "# Root Mean square error"
   ]
  },
  {
   "cell_type": "code",
   "execution_count": 80,
   "id": "d9617da8",
   "metadata": {},
   "outputs": [
    {
     "data": {
      "text/plain": [
       "7889.2502712814985"
      ]
     },
     "execution_count": 80,
     "metadata": {},
     "output_type": "execute_result"
    }
   ],
   "source": [
    "from sklearn.metrics import mean_squared_error\n",
    "mse = mean_squared_error(y_test, y_pred)\n",
    "rmse = np.sqrt(mse)\n",
    "rmse"
   ]
  },
  {
   "cell_type": "code",
   "execution_count": 42,
   "id": "104dda00",
   "metadata": {
    "scrolled": true
   },
   "outputs": [
    {
     "data": {
      "text/html": [
       "<table class=\"simpletable\">\n",
       "<tr>\n",
       "        <td>Model:</td>               <td>OLS</td>         <td>Adj. R-squared:</td>      <td>0.947</td>  \n",
       "</tr>\n",
       "<tr>\n",
       "  <td>Dependent Variable:</td>         <td>y</td>               <td>AIC:</td>          <td>748.2284</td> \n",
       "</tr>\n",
       "<tr>\n",
       "         <td>Date:</td>        <td>2023-10-02 16:45</td>        <td>BIC:</td>          <td>754.4498</td> \n",
       "</tr>\n",
       "<tr>\n",
       "   <td>No. Observations:</td>         <td>35</td>          <td>Log-Likelihood:</td>     <td>-370.11</td> \n",
       "</tr>\n",
       "<tr>\n",
       "       <td>Df Model:</td>              <td>3</td>           <td>F-statistic:</td>        <td>202.9</td>  \n",
       "</tr>\n",
       "<tr>\n",
       "     <td>Df Residuals:</td>           <td>31</td>        <td>Prob (F-statistic):</td>  <td>1.87e-20</td> \n",
       "</tr>\n",
       "<tr>\n",
       "      <td>R-squared:</td>            <td>0.952</td>            <td>Scale:</td>        <td>1.0123e+08</td>\n",
       "</tr>\n",
       "</table>\n",
       "<table class=\"simpletable\">\n",
       "<tr>\n",
       "    <td></td>       <th>Coef.</th>   <th>Std.Err.</th>     <th>t</th>     <th>P>|t|</th>   <th>[0.025</th>     <th>0.975]</th>  \n",
       "</tr>\n",
       "<tr>\n",
       "  <th>const</th> <td>42448.5286</td> <td>8932.8988</td> <td>4.7519</td>  <td>0.0000</td> <td>24229.7613</td> <td>60667.2959</td>\n",
       "</tr>\n",
       "<tr>\n",
       "  <th>x1</th>      <td>0.7905</td>    <td>0.0568</td>   <td>13.9248</td> <td>0.0000</td>   <td>0.6747</td>     <td>0.9062</td>  \n",
       "</tr>\n",
       "<tr>\n",
       "  <th>x2</th>      <td>0.0311</td>    <td>0.0732</td>   <td>0.4252</td>  <td>0.6736</td>   <td>-0.1182</td>    <td>0.1805</td>  \n",
       "</tr>\n",
       "<tr>\n",
       "  <th>x3</th>      <td>0.0314</td>    <td>0.0199</td>   <td>1.5781</td>  <td>0.1247</td>   <td>-0.0092</td>    <td>0.0719</td>  \n",
       "</tr>\n",
       "</table>\n",
       "<table class=\"simpletable\">\n",
       "<tr>\n",
       "     <td>Omnibus:</td>    <td>12.702</td>  <td>Durbin-Watson:</td>    <td>2.432</td> \n",
       "</tr>\n",
       "<tr>\n",
       "  <td>Prob(Omnibus):</td>  <td>0.002</td> <td>Jarque-Bera (JB):</td> <td>15.131</td> \n",
       "</tr>\n",
       "<tr>\n",
       "       <td>Skew:</td>     <td>-1.011</td>     <td>Prob(JB):</td>      <td>0.001</td> \n",
       "</tr>\n",
       "<tr>\n",
       "     <td>Kurtosis:</td>    <td>5.507</td>  <td>Condition No.:</td>   <td>1448399</td>\n",
       "</tr>\n",
       "</table>"
      ],
      "text/plain": [
       "<class 'statsmodels.iolib.summary2.Summary'>\n",
       "\"\"\"\n",
       "                  Results: Ordinary least squares\n",
       "===================================================================\n",
       "Model:              OLS              Adj. R-squared:     0.947     \n",
       "Dependent Variable: y                AIC:                748.2284  \n",
       "Date:               2023-10-02 16:45 BIC:                754.4498  \n",
       "No. Observations:   35               Log-Likelihood:     -370.11   \n",
       "Df Model:           3                F-statistic:        202.9     \n",
       "Df Residuals:       31               Prob (F-statistic): 1.87e-20  \n",
       "R-squared:          0.952            Scale:              1.0123e+08\n",
       "-------------------------------------------------------------------\n",
       "            Coef.     Std.Err.    t    P>|t|    [0.025     0.975]  \n",
       "-------------------------------------------------------------------\n",
       "const     42448.5286 8932.8988  4.7519 0.0000 24229.7613 60667.2959\n",
       "x1            0.7905    0.0568 13.9248 0.0000     0.6747     0.9062\n",
       "x2            0.0311    0.0732  0.4252 0.6736    -0.1182     0.1805\n",
       "x3            0.0314    0.0199  1.5781 0.1247    -0.0092     0.0719\n",
       "-------------------------------------------------------------------\n",
       "Omnibus:               12.702       Durbin-Watson:          2.432  \n",
       "Prob(Omnibus):         0.002        Jarque-Bera (JB):       15.131 \n",
       "Skew:                  -1.011       Prob(JB):               0.001  \n",
       "Kurtosis:              5.507        Condition No.:          1448399\n",
       "===================================================================\n",
       "* The condition number is large (1e+06). This might indicate\n",
       "strong multicollinearity or other numerical problems.\n",
       "\"\"\""
      ]
     },
     "execution_count": 42,
     "metadata": {},
     "output_type": "execute_result"
    }
   ],
   "source": [
    "import statsmodels.api as sm\n",
    "X_train = sm.add_constant(X_train)\n",
    "model = sm.OLS(y_train, X_train).fit()\n",
    "model.summary2().tables[0]\n"
   ]
  },
  {
   "cell_type": "code",
   "execution_count": null,
   "id": "472f540d",
   "metadata": {},
   "outputs": [],
   "source": []
  },
  {
   "cell_type": "markdown",
   "id": "f92d7c27",
   "metadata": {},
   "source": [
    "# R sqaured and adjusted R sqaure"
   ]
  },
  {
   "cell_type": "code",
   "execution_count": 44,
   "id": "9b4d4782",
   "metadata": {},
   "outputs": [
    {
     "data": {
      "text/html": [
       "<div>\n",
       "<style scoped>\n",
       "    .dataframe tbody tr th:only-of-type {\n",
       "        vertical-align: middle;\n",
       "    }\n",
       "\n",
       "    .dataframe tbody tr th {\n",
       "        vertical-align: top;\n",
       "    }\n",
       "\n",
       "    .dataframe thead th {\n",
       "        text-align: right;\n",
       "    }\n",
       "</style>\n",
       "<table border=\"1\" class=\"dataframe\">\n",
       "  <thead>\n",
       "    <tr style=\"text-align: right;\">\n",
       "      <th></th>\n",
       "      <th>0</th>\n",
       "      <th>1</th>\n",
       "      <th>2</th>\n",
       "      <th>3</th>\n",
       "    </tr>\n",
       "  </thead>\n",
       "  <tbody>\n",
       "    <tr>\n",
       "      <th>0</th>\n",
       "      <td>Model:</td>\n",
       "      <td>OLS</td>\n",
       "      <td>Adj. R-squared:</td>\n",
       "      <td>0.945</td>\n",
       "    </tr>\n",
       "    <tr>\n",
       "      <th>1</th>\n",
       "      <td>Dependent Variable:</td>\n",
       "      <td>y</td>\n",
       "      <td>AIC:</td>\n",
       "      <td>1058.8730</td>\n",
       "    </tr>\n",
       "    <tr>\n",
       "      <th>2</th>\n",
       "      <td>Date:</td>\n",
       "      <td>2023-10-02 16:47</td>\n",
       "      <td>BIC:</td>\n",
       "      <td>1062.6971</td>\n",
       "    </tr>\n",
       "    <tr>\n",
       "      <th>3</th>\n",
       "      <td>No. Observations:</td>\n",
       "      <td>50</td>\n",
       "      <td>Log-Likelihood:</td>\n",
       "      <td>-527.44</td>\n",
       "    </tr>\n",
       "    <tr>\n",
       "      <th>4</th>\n",
       "      <td>Df Model:</td>\n",
       "      <td>1</td>\n",
       "      <td>F-statistic:</td>\n",
       "      <td>849.8</td>\n",
       "    </tr>\n",
       "    <tr>\n",
       "      <th>5</th>\n",
       "      <td>Df Residuals:</td>\n",
       "      <td>48</td>\n",
       "      <td>Prob (F-statistic):</td>\n",
       "      <td>3.50e-32</td>\n",
       "    </tr>\n",
       "    <tr>\n",
       "      <th>6</th>\n",
       "      <td>R-squared:</td>\n",
       "      <td>0.947</td>\n",
       "      <td>Scale:</td>\n",
       "      <td>8.8668e+07</td>\n",
       "    </tr>\n",
       "  </tbody>\n",
       "</table>\n",
       "</div>"
      ],
      "text/plain": [
       "                     0                 1                    2           3\n",
       "0               Model:               OLS      Adj. R-squared:       0.945\n",
       "1  Dependent Variable:                 y                 AIC:   1058.8730\n",
       "2                Date:  2023-10-02 16:47                 BIC:   1062.6971\n",
       "3    No. Observations:                50      Log-Likelihood:     -527.44\n",
       "4            Df Model:                 1         F-statistic:       849.8\n",
       "5        Df Residuals:                48  Prob (F-statistic):    3.50e-32\n",
       "6           R-squared:             0.947               Scale:  8.8668e+07"
      ]
     },
     "execution_count": 44,
     "metadata": {},
     "output_type": "execute_result"
    }
   ],
   "source": [
    "# Linear regression model with one independent variable, observe R-Squared and Adj.R-sqaured\n",
    "X = dataset.iloc[:, 0:1].values\n",
    "Y= dataset.iloc[:,4].values\n",
    "X = sm.add_constant(X)\n",
    "model = sm.OLS(Y, X).fit()\n",
    "model.summary2().tables[0]"
   ]
  },
  {
   "cell_type": "code",
   "execution_count": 45,
   "id": "6a262d5d",
   "metadata": {},
   "outputs": [
    {
     "data": {
      "text/html": [
       "<div>\n",
       "<style scoped>\n",
       "    .dataframe tbody tr th:only-of-type {\n",
       "        vertical-align: middle;\n",
       "    }\n",
       "\n",
       "    .dataframe tbody tr th {\n",
       "        vertical-align: top;\n",
       "    }\n",
       "\n",
       "    .dataframe thead th {\n",
       "        text-align: right;\n",
       "    }\n",
       "</style>\n",
       "<table border=\"1\" class=\"dataframe\">\n",
       "  <thead>\n",
       "    <tr style=\"text-align: right;\">\n",
       "      <th></th>\n",
       "      <th>0</th>\n",
       "      <th>1</th>\n",
       "      <th>2</th>\n",
       "      <th>3</th>\n",
       "    </tr>\n",
       "  </thead>\n",
       "  <tbody>\n",
       "    <tr>\n",
       "      <th>0</th>\n",
       "      <td>Model:</td>\n",
       "      <td>OLS</td>\n",
       "      <td>Adj. R-squared:</td>\n",
       "      <td>0.946</td>\n",
       "    </tr>\n",
       "    <tr>\n",
       "      <th>1</th>\n",
       "      <td>Dependent Variable:</td>\n",
       "      <td>y</td>\n",
       "      <td>AIC:</td>\n",
       "      <td>1059.6637</td>\n",
       "    </tr>\n",
       "    <tr>\n",
       "      <th>2</th>\n",
       "      <td>Date:</td>\n",
       "      <td>2023-10-02 16:48</td>\n",
       "      <td>BIC:</td>\n",
       "      <td>1065.3998</td>\n",
       "    </tr>\n",
       "    <tr>\n",
       "      <th>3</th>\n",
       "      <td>No. Observations:</td>\n",
       "      <td>50</td>\n",
       "      <td>Log-Likelihood:</td>\n",
       "      <td>-526.83</td>\n",
       "    </tr>\n",
       "    <tr>\n",
       "      <th>4</th>\n",
       "      <td>Df Model:</td>\n",
       "      <td>2</td>\n",
       "      <td>F-statistic:</td>\n",
       "      <td>426.8</td>\n",
       "    </tr>\n",
       "    <tr>\n",
       "      <th>5</th>\n",
       "      <td>Df Residuals:</td>\n",
       "      <td>47</td>\n",
       "      <td>Prob (F-statistic):</td>\n",
       "      <td>7.29e-31</td>\n",
       "    </tr>\n",
       "    <tr>\n",
       "      <th>6</th>\n",
       "      <td>R-squared:</td>\n",
       "      <td>0.948</td>\n",
       "      <td>Scale:</td>\n",
       "      <td>8.8390e+07</td>\n",
       "    </tr>\n",
       "  </tbody>\n",
       "</table>\n",
       "</div>"
      ],
      "text/plain": [
       "                     0                 1                    2           3\n",
       "0               Model:               OLS      Adj. R-squared:       0.946\n",
       "1  Dependent Variable:                 y                 AIC:   1059.6637\n",
       "2                Date:  2023-10-02 16:48                 BIC:   1065.3998\n",
       "3    No. Observations:                50      Log-Likelihood:     -526.83\n",
       "4            Df Model:                 2         F-statistic:       426.8\n",
       "5        Df Residuals:                47  Prob (F-statistic):    7.29e-31\n",
       "6           R-squared:             0.948               Scale:  8.8390e+07"
      ]
     },
     "execution_count": 45,
     "metadata": {},
     "output_type": "execute_result"
    }
   ],
   "source": [
    "# Linear regression model with two independent variable,observe R-Squared and Adj.R-sqaured\n",
    "X = dataset.iloc[:, 0:2].values\n",
    "Y= dataset.iloc[:,4].values\n",
    "X = sm.add_constant(X)\n",
    "model = sm.OLS(Y, X).fit()\n",
    "model.summary2().tables[0]"
   ]
  },
  {
   "cell_type": "code",
   "execution_count": 46,
   "id": "5642977b",
   "metadata": {},
   "outputs": [
    {
     "data": {
      "text/html": [
       "<div>\n",
       "<style scoped>\n",
       "    .dataframe tbody tr th:only-of-type {\n",
       "        vertical-align: middle;\n",
       "    }\n",
       "\n",
       "    .dataframe tbody tr th {\n",
       "        vertical-align: top;\n",
       "    }\n",
       "\n",
       "    .dataframe thead th {\n",
       "        text-align: right;\n",
       "    }\n",
       "</style>\n",
       "<table border=\"1\" class=\"dataframe\">\n",
       "  <thead>\n",
       "    <tr style=\"text-align: right;\">\n",
       "      <th></th>\n",
       "      <th>0</th>\n",
       "      <th>1</th>\n",
       "      <th>2</th>\n",
       "      <th>3</th>\n",
       "    </tr>\n",
       "  </thead>\n",
       "  <tbody>\n",
       "    <tr>\n",
       "      <th>0</th>\n",
       "      <td>Model:</td>\n",
       "      <td>OLS</td>\n",
       "      <td>Adj. R-squared:</td>\n",
       "      <td>0.948</td>\n",
       "    </tr>\n",
       "    <tr>\n",
       "      <th>1</th>\n",
       "      <td>Dependent Variable:</td>\n",
       "      <td>y</td>\n",
       "      <td>AIC:</td>\n",
       "      <td>1058.7715</td>\n",
       "    </tr>\n",
       "    <tr>\n",
       "      <th>2</th>\n",
       "      <td>Date:</td>\n",
       "      <td>2023-10-02 16:48</td>\n",
       "      <td>BIC:</td>\n",
       "      <td>1066.4196</td>\n",
       "    </tr>\n",
       "    <tr>\n",
       "      <th>3</th>\n",
       "      <td>No. Observations:</td>\n",
       "      <td>50</td>\n",
       "      <td>Log-Likelihood:</td>\n",
       "      <td>-525.39</td>\n",
       "    </tr>\n",
       "    <tr>\n",
       "      <th>4</th>\n",
       "      <td>Df Model:</td>\n",
       "      <td>3</td>\n",
       "      <td>F-statistic:</td>\n",
       "      <td>296.0</td>\n",
       "    </tr>\n",
       "    <tr>\n",
       "      <th>5</th>\n",
       "      <td>Df Residuals:</td>\n",
       "      <td>46</td>\n",
       "      <td>Prob (F-statistic):</td>\n",
       "      <td>4.53e-30</td>\n",
       "    </tr>\n",
       "    <tr>\n",
       "      <th>6</th>\n",
       "      <td>R-squared:</td>\n",
       "      <td>0.951</td>\n",
       "      <td>Scale:</td>\n",
       "      <td>8.5236e+07</td>\n",
       "    </tr>\n",
       "  </tbody>\n",
       "</table>\n",
       "</div>"
      ],
      "text/plain": [
       "                     0                 1                    2           3\n",
       "0               Model:               OLS      Adj. R-squared:       0.948\n",
       "1  Dependent Variable:                 y                 AIC:   1058.7715\n",
       "2                Date:  2023-10-02 16:48                 BIC:   1066.4196\n",
       "3    No. Observations:                50      Log-Likelihood:     -525.39\n",
       "4            Df Model:                 3         F-statistic:       296.0\n",
       "5        Df Residuals:                46  Prob (F-statistic):    4.53e-30\n",
       "6           R-squared:             0.951               Scale:  8.5236e+07"
      ]
     },
     "execution_count": 46,
     "metadata": {},
     "output_type": "execute_result"
    }
   ],
   "source": [
    "# Linear regression model with three independent variable,observe R-Squared and Adj.R-sqaured\n",
    "X = dataset.iloc[:, 0:3].values\n",
    "Y= dataset.iloc[:,4].values\n",
    "X = sm.add_constant(X)\n",
    "model = sm.OLS(Y, X).fit()\n",
    "model.summary2().tables[0]"
   ]
  }
 ],
 "metadata": {
  "kernelspec": {
   "display_name": "Python 3 (ipykernel)",
   "language": "python",
   "name": "python3"
  },
  "language_info": {
   "codemirror_mode": {
    "name": "ipython",
    "version": 3
   },
   "file_extension": ".py",
   "mimetype": "text/x-python",
   "name": "python",
   "nbconvert_exporter": "python",
   "pygments_lexer": "ipython3",
   "version": "3.10.9"
  }
 },
 "nbformat": 4,
 "nbformat_minor": 5
}
