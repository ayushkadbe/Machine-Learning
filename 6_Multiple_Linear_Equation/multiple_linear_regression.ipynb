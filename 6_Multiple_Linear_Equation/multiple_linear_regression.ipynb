{
 "cells": [
  {
   "cell_type": "markdown",
   "metadata": {
    "colab_type": "text",
    "id": "CazISR8X_HUG"
   },
   "source": [
    "# Multiple Linear Regression"
   ]
  },
  {
   "cell_type": "markdown",
   "metadata": {
    "colab_type": "text",
    "id": "pOyqYHTk_Q57"
   },
   "source": [
    "## Importing the libraries"
   ]
  },
  {
   "cell_type": "code",
   "execution_count": 112,
   "metadata": {
    "colab": {},
    "colab_type": "code",
    "id": "T_YHJjnD_Tja"
   },
   "outputs": [],
   "source": [
    "import numpy as np\n",
    "import matplotlib.pyplot as plt\n",
    "import pandas as pd"
   ]
  },
  {
   "cell_type": "markdown",
   "metadata": {
    "colab_type": "text",
    "id": "vgC61-ah_WIz"
   },
   "source": [
    "## Importing the dataset"
   ]
  },
  {
   "cell_type": "code",
   "execution_count": 150,
   "metadata": {
    "colab": {},
    "colab_type": "code",
    "id": "UrxyEKGn_ez7"
   },
   "outputs": [
    {
     "data": {
      "text/plain": [
       "(array([[165349.2 , 136897.8 , 471784.1 ],\n",
       "        [162597.7 , 151377.59, 443898.53],\n",
       "        [153441.51, 101145.55, 407934.54],\n",
       "        [144372.41, 118671.85, 383199.62],\n",
       "        [142107.34,  91391.77, 366168.42],\n",
       "        [131876.9 ,  99814.71, 362861.36],\n",
       "        [134615.46, 147198.87, 127716.82],\n",
       "        [130298.13, 145530.06, 323876.68],\n",
       "        [120542.52, 148718.95, 311613.29],\n",
       "        [123334.88, 108679.17, 304981.62],\n",
       "        [101913.08, 110594.11, 229160.95],\n",
       "        [100671.96,  91790.61, 249744.55],\n",
       "        [ 93863.75, 127320.38, 249839.44],\n",
       "        [ 91992.39, 135495.07, 252664.93],\n",
       "        [119943.24, 156547.42, 256512.92],\n",
       "        [114523.61, 122616.84, 261776.23],\n",
       "        [ 78013.11, 121597.55, 264346.06],\n",
       "        [ 94657.16, 145077.58, 282574.31],\n",
       "        [ 91749.16, 114175.79, 294919.57],\n",
       "        [ 86419.7 , 153514.11,      0.  ],\n",
       "        [ 76253.86, 113867.3 , 298664.47],\n",
       "        [ 78389.47, 153773.43, 299737.29],\n",
       "        [ 73994.56, 122782.75, 303319.26],\n",
       "        [ 67532.53, 105751.03, 304768.73],\n",
       "        [ 77044.01,  99281.34, 140574.81],\n",
       "        [ 64664.71, 139553.16, 137962.62],\n",
       "        [ 75328.87, 144135.98, 134050.07],\n",
       "        [ 72107.6 , 127864.55, 353183.81],\n",
       "        [ 66051.52, 182645.56, 118148.2 ],\n",
       "        [ 65605.48, 153032.06, 107138.38],\n",
       "        [ 61994.48, 115641.28,  91131.24],\n",
       "        [ 61136.38, 152701.92,  88218.23],\n",
       "        [ 63408.86, 129219.61,  46085.25],\n",
       "        [ 55493.95, 103057.49, 214634.81],\n",
       "        [ 46426.07, 157693.92, 210797.67],\n",
       "        [ 46014.02,  85047.44, 205517.64],\n",
       "        [ 28663.76, 127056.21, 201126.82],\n",
       "        [ 44069.95,  51283.14, 197029.42],\n",
       "        [ 20229.59,  65947.93, 185265.1 ],\n",
       "        [ 38558.51,  82982.09, 174999.3 ],\n",
       "        [ 28754.33, 118546.05, 172795.67],\n",
       "        [ 27892.92,  84710.77, 164470.71],\n",
       "        [ 23640.93,  96189.63, 148001.11],\n",
       "        [ 15505.73, 127382.3 ,  35534.17],\n",
       "        [ 22177.74, 154806.14,  28334.72],\n",
       "        [  1000.23, 124153.04,   1903.93],\n",
       "        [  1315.46, 115816.21, 297114.46],\n",
       "        [     0.  , 135426.92,      0.  ],\n",
       "        [   542.05,  51743.15,      0.  ],\n",
       "        [     0.  , 116983.8 ,  45173.06]]),\n",
       " array([192261.83, 191792.06, 191050.39, 182901.99, 166187.94, 156991.12,\n",
       "        156122.51, 155752.6 , 152211.77, 149759.96, 146121.95, 144259.4 ,\n",
       "        141585.52, 134307.35, 132602.65, 129917.04, 126992.93, 125370.37,\n",
       "        124266.9 , 122776.86, 118474.03, 111313.02, 110352.25, 108733.99,\n",
       "        108552.04, 107404.34, 105733.54, 105008.31, 103282.38, 101004.64,\n",
       "         99937.59,  97483.56,  97427.84,  96778.92,  96712.8 ,  96479.51,\n",
       "         90708.19,  89949.14,  81229.06,  81005.76,  78239.91,  77798.83,\n",
       "         71498.49,  69758.98,  65200.33,  64926.08,  49490.75,  42559.73,\n",
       "         35673.41,  14681.4 ]))"
      ]
     },
     "execution_count": 150,
     "metadata": {},
     "output_type": "execute_result"
    }
   ],
   "source": [
    "dataset=pd.read_csv(\"50_Startups.csv\")\n",
    "X = dataset.iloc[:, 0:3].values\n",
    "Y= dataset.iloc[:,4].values\n",
    "X,Y"
   ]
  },
  {
   "cell_type": "markdown",
   "metadata": {
    "colab_type": "text",
    "id": "WemVnqgeA70k"
   },
   "source": [
    "## Splitting the dataset into the Training set and Test set"
   ]
  },
  {
   "cell_type": "code",
   "execution_count": 154,
   "metadata": {
    "colab": {},
    "colab_type": "code",
    "id": "Kb_v_ae-A-20"
   },
   "outputs": [
    {
     "data": {
      "text/plain": [
       "(array([[130298.13, 145530.06, 323876.68],\n",
       "        [119943.24, 156547.42, 256512.92],\n",
       "        [  1000.23, 124153.04,   1903.93],\n",
       "        [   542.05,  51743.15,      0.  ],\n",
       "        [ 65605.48, 153032.06, 107138.38],\n",
       "        [114523.61, 122616.84, 261776.23],\n",
       "        [ 61994.48, 115641.28,  91131.24],\n",
       "        [ 63408.86, 129219.61,  46085.25],\n",
       "        [ 78013.11, 121597.55, 264346.06],\n",
       "        [ 23640.93,  96189.63, 148001.11],\n",
       "        [ 76253.86, 113867.3 , 298664.47],\n",
       "        [ 15505.73, 127382.3 ,  35534.17],\n",
       "        [120542.52, 148718.95, 311613.29],\n",
       "        [ 91992.39, 135495.07, 252664.93],\n",
       "        [ 64664.71, 139553.16, 137962.62],\n",
       "        [131876.9 ,  99814.71, 362861.36],\n",
       "        [ 94657.16, 145077.58, 282574.31],\n",
       "        [ 28754.33, 118546.05, 172795.67],\n",
       "        [     0.  , 116983.8 ,  45173.06],\n",
       "        [162597.7 , 151377.59, 443898.53],\n",
       "        [ 93863.75, 127320.38, 249839.44],\n",
       "        [ 44069.95,  51283.14, 197029.42],\n",
       "        [ 77044.01,  99281.34, 140574.81],\n",
       "        [134615.46, 147198.87, 127716.82],\n",
       "        [ 67532.53, 105751.03, 304768.73],\n",
       "        [ 28663.76, 127056.21, 201126.82],\n",
       "        [ 78389.47, 153773.43, 299737.29],\n",
       "        [ 86419.7 , 153514.11,      0.  ],\n",
       "        [123334.88, 108679.17, 304981.62],\n",
       "        [ 38558.51,  82982.09, 174999.3 ],\n",
       "        [  1315.46, 115816.21, 297114.46],\n",
       "        [144372.41, 118671.85, 383199.62],\n",
       "        [165349.2 , 136897.8 , 471784.1 ],\n",
       "        [     0.  , 135426.92,      0.  ],\n",
       "        [ 22177.74, 154806.14,  28334.72]]),\n",
       " array([[ 66051.52, 182645.56, 118148.2 ],\n",
       "        [100671.96,  91790.61, 249744.55],\n",
       "        [101913.08, 110594.11, 229160.95],\n",
       "        [ 27892.92,  84710.77, 164470.71],\n",
       "        [153441.51, 101145.55, 407934.54],\n",
       "        [ 72107.6 , 127864.55, 353183.81],\n",
       "        [ 20229.59,  65947.93, 185265.1 ],\n",
       "        [ 61136.38, 152701.92,  88218.23],\n",
       "        [ 73994.56, 122782.75, 303319.26],\n",
       "        [142107.34,  91391.77, 366168.42],\n",
       "        [ 55493.95, 103057.49, 214634.81],\n",
       "        [ 46014.02,  85047.44, 205517.64],\n",
       "        [ 75328.87, 144135.98, 134050.07],\n",
       "        [ 46426.07, 157693.92, 210797.67],\n",
       "        [ 91749.16, 114175.79, 294919.57]]),\n",
       " array([155752.6 , 132602.65,  64926.08,  35673.41, 101004.64, 129917.04,\n",
       "         99937.59,  97427.84, 126992.93,  71498.49, 118474.03,  69758.98,\n",
       "        152211.77, 134307.35, 107404.34, 156991.12, 125370.37,  78239.91,\n",
       "         14681.4 , 191792.06, 141585.52,  89949.14, 108552.04, 156122.51,\n",
       "        108733.99,  90708.19, 111313.02, 122776.86, 149759.96,  81005.76,\n",
       "         49490.75, 182901.99, 192261.83,  42559.73,  65200.33]),\n",
       " array([103282.38, 144259.4 , 146121.95,  77798.83, 191050.39, 105008.31,\n",
       "         81229.06,  97483.56, 110352.25, 166187.94,  96778.92,  96479.51,\n",
       "        105733.54,  96712.8 , 124266.9 ]))"
      ]
     },
     "execution_count": 154,
     "metadata": {},
     "output_type": "execute_result"
    }
   ],
   "source": [
    "from sklearn.model_selection import train_test_split\n",
    "X_train, X_test, y_train, y_test = train_test_split(X, Y, test_size = 0.3, random_state = 0)\n",
    "X_train, X_test, y_train, y_test"
   ]
  },
  {
   "cell_type": "markdown",
   "metadata": {
    "colab_type": "text",
    "id": "k-McZVsQBINc"
   },
   "source": [
    "## Training the Multiple Linear Regression model on the Training set"
   ]
  },
  {
   "cell_type": "code",
   "execution_count": 157,
   "metadata": {
    "colab": {
     "base_uri": "https://localhost:8080/",
     "height": 34
    },
    "colab_type": "code",
    "executionInfo": {
     "elapsed": 757,
     "status": "ok",
     "timestamp": 1586353664008,
     "user": {
      "displayName": "Hadelin de Ponteves",
      "photoUrl": "https://lh3.googleusercontent.com/a-/AOh14GhEuXdT7eQweUmRPW8_laJuPggSK6hfvpl5a6WBaA=s64",
      "userId": "15047218817161520419"
     },
     "user_tz": -240
    },
    "id": "ywPjx0L1BMiD",
    "outputId": "099836bc-4d85-4b4f-a488-093faf02e8cb"
   },
   "outputs": [
    {
     "data": {
      "text/html": [
       "<style>#sk-container-id-30 {color: black;background-color: white;}#sk-container-id-30 pre{padding: 0;}#sk-container-id-30 div.sk-toggleable {background-color: white;}#sk-container-id-30 label.sk-toggleable__label {cursor: pointer;display: block;width: 100%;margin-bottom: 0;padding: 0.3em;box-sizing: border-box;text-align: center;}#sk-container-id-30 label.sk-toggleable__label-arrow:before {content: \"▸\";float: left;margin-right: 0.25em;color: #696969;}#sk-container-id-30 label.sk-toggleable__label-arrow:hover:before {color: black;}#sk-container-id-30 div.sk-estimator:hover label.sk-toggleable__label-arrow:before {color: black;}#sk-container-id-30 div.sk-toggleable__content {max-height: 0;max-width: 0;overflow: hidden;text-align: left;background-color: #f0f8ff;}#sk-container-id-30 div.sk-toggleable__content pre {margin: 0.2em;color: black;border-radius: 0.25em;background-color: #f0f8ff;}#sk-container-id-30 input.sk-toggleable__control:checked~div.sk-toggleable__content {max-height: 200px;max-width: 100%;overflow: auto;}#sk-container-id-30 input.sk-toggleable__control:checked~label.sk-toggleable__label-arrow:before {content: \"▾\";}#sk-container-id-30 div.sk-estimator input.sk-toggleable__control:checked~label.sk-toggleable__label {background-color: #d4ebff;}#sk-container-id-30 div.sk-label input.sk-toggleable__control:checked~label.sk-toggleable__label {background-color: #d4ebff;}#sk-container-id-30 input.sk-hidden--visually {border: 0;clip: rect(1px 1px 1px 1px);clip: rect(1px, 1px, 1px, 1px);height: 1px;margin: -1px;overflow: hidden;padding: 0;position: absolute;width: 1px;}#sk-container-id-30 div.sk-estimator {font-family: monospace;background-color: #f0f8ff;border: 1px dotted black;border-radius: 0.25em;box-sizing: border-box;margin-bottom: 0.5em;}#sk-container-id-30 div.sk-estimator:hover {background-color: #d4ebff;}#sk-container-id-30 div.sk-parallel-item::after {content: \"\";width: 100%;border-bottom: 1px solid gray;flex-grow: 1;}#sk-container-id-30 div.sk-label:hover label.sk-toggleable__label {background-color: #d4ebff;}#sk-container-id-30 div.sk-serial::before {content: \"\";position: absolute;border-left: 1px solid gray;box-sizing: border-box;top: 0;bottom: 0;left: 50%;z-index: 0;}#sk-container-id-30 div.sk-serial {display: flex;flex-direction: column;align-items: center;background-color: white;padding-right: 0.2em;padding-left: 0.2em;position: relative;}#sk-container-id-30 div.sk-item {position: relative;z-index: 1;}#sk-container-id-30 div.sk-parallel {display: flex;align-items: stretch;justify-content: center;background-color: white;position: relative;}#sk-container-id-30 div.sk-item::before, #sk-container-id-30 div.sk-parallel-item::before {content: \"\";position: absolute;border-left: 1px solid gray;box-sizing: border-box;top: 0;bottom: 0;left: 50%;z-index: -1;}#sk-container-id-30 div.sk-parallel-item {display: flex;flex-direction: column;z-index: 1;position: relative;background-color: white;}#sk-container-id-30 div.sk-parallel-item:first-child::after {align-self: flex-end;width: 50%;}#sk-container-id-30 div.sk-parallel-item:last-child::after {align-self: flex-start;width: 50%;}#sk-container-id-30 div.sk-parallel-item:only-child::after {width: 0;}#sk-container-id-30 div.sk-dashed-wrapped {border: 1px dashed gray;margin: 0 0.4em 0.5em 0.4em;box-sizing: border-box;padding-bottom: 0.4em;background-color: white;}#sk-container-id-30 div.sk-label label {font-family: monospace;font-weight: bold;display: inline-block;line-height: 1.2em;}#sk-container-id-30 div.sk-label-container {text-align: center;}#sk-container-id-30 div.sk-container {/* jupyter's `normalize.less` sets `[hidden] { display: none; }` but bootstrap.min.css set `[hidden] { display: none !important; }` so we also need the `!important` here to be able to override the default hidden behavior on the sphinx rendered scikit-learn.org. See: https://github.com/scikit-learn/scikit-learn/issues/21755 */display: inline-block !important;position: relative;}#sk-container-id-30 div.sk-text-repr-fallback {display: none;}</style><div id=\"sk-container-id-30\" class=\"sk-top-container\"><div class=\"sk-text-repr-fallback\"><pre>LinearRegression()</pre><b>In a Jupyter environment, please rerun this cell to show the HTML representation or trust the notebook. <br />On GitHub, the HTML representation is unable to render, please try loading this page with nbviewer.org.</b></div><div class=\"sk-container\" hidden><div class=\"sk-item\"><div class=\"sk-estimator sk-toggleable\"><input class=\"sk-toggleable__control sk-hidden--visually\" id=\"sk-estimator-id-30\" type=\"checkbox\" checked><label for=\"sk-estimator-id-30\" class=\"sk-toggleable__label sk-toggleable__label-arrow\">LinearRegression</label><div class=\"sk-toggleable__content\"><pre>LinearRegression()</pre></div></div></div></div></div>"
      ],
      "text/plain": [
       "LinearRegression()"
      ]
     },
     "execution_count": 157,
     "metadata": {},
     "output_type": "execute_result"
    }
   ],
   "source": [
    "from sklearn.linear_model import LinearRegression\n",
    "regressor = LinearRegression()\n",
    "regressor.fit(X_train, y_train)"
   ]
  },
  {
   "cell_type": "markdown",
   "metadata": {
    "colab_type": "text",
    "id": "xNkXL1YQBiBT"
   },
   "source": [
    "## Predicting the Test set results"
   ]
  },
  {
   "cell_type": "code",
   "execution_count": 143,
   "metadata": {
    "colab": {
     "base_uri": "https://localhost:8080/",
     "height": 185
    },
    "colab_type": "code",
    "executionInfo": {
     "elapsed": 951,
     "status": "ok",
     "timestamp": 1586353666678,
     "user": {
      "displayName": "Hadelin de Ponteves",
      "photoUrl": "https://lh3.googleusercontent.com/a-/AOh14GhEuXdT7eQweUmRPW8_laJuPggSK6hfvpl5a6WBaA=s64",
      "userId": "15047218817161520419"
     },
     "user_tz": -240
    },
    "id": "TQKmwvtdBkyb",
    "outputId": "493436bf-a4ae-4374-ca16-0b0c25d19457"
   },
   "outputs": [
    {
     "data": {
      "text/plain": [
       "array([104054.44293869, 132719.3459701 , 133640.26830949,  72294.76911458,\n",
       "       179685.62227843, 114508.97572031,  66305.23069863,  98297.69326565,\n",
       "       114277.91894933, 169112.36095691,  96257.40152149,  87916.97242208,\n",
       "       110687.33942598,  90670.8337806 , 127780.63539583])"
      ]
     },
     "execution_count": 143,
     "metadata": {},
     "output_type": "execute_result"
    }
   ],
   "source": [
    "y_pred = regressor.predict(X_test)\n",
    "y_pred\n"
   ]
  },
  {
   "cell_type": "code",
   "execution_count": null,
   "metadata": {},
   "outputs": [],
   "source": [
    "# Get the statistics / description of model\n",
    "# to get the complete statistics of model we need\n",
    "# to use statsmodels library"
   ]
  },
  {
   "cell_type": "code",
   "execution_count": 159,
   "metadata": {},
   "outputs": [
    {
     "data": {
      "text/plain": [
       "x1    1.668129e-11\n",
       "x2    1.080926e-11\n",
       "x3    1.132094e-02\n",
       "Name: P>|t|, dtype: float64"
      ]
     },
     "execution_count": 159,
     "metadata": {},
     "output_type": "execute_result"
    }
   ],
   "source": [
    "import statsmodels.api as sm\n",
    "X_train = sm.add_constant(X_train)\n",
    "model = sm.OLS(y_train, X_train).fit()\n",
    "model.summary2().tables[1]['P>|t|']\n",
    "\n"
   ]
  },
  {
   "cell_type": "code",
   "execution_count": 162,
   "metadata": {},
   "outputs": [
    {
     "data": {
      "text/html": [
       "<div>\n",
       "<style scoped>\n",
       "    .dataframe tbody tr th:only-of-type {\n",
       "        vertical-align: middle;\n",
       "    }\n",
       "\n",
       "    .dataframe tbody tr th {\n",
       "        vertical-align: top;\n",
       "    }\n",
       "\n",
       "    .dataframe thead th {\n",
       "        text-align: right;\n",
       "    }\n",
       "</style>\n",
       "<table border=\"1\" class=\"dataframe\">\n",
       "  <thead>\n",
       "    <tr style=\"text-align: right;\">\n",
       "      <th></th>\n",
       "      <th>Coef.</th>\n",
       "      <th>Std.Err.</th>\n",
       "      <th>t</th>\n",
       "      <th>P&gt;|t|</th>\n",
       "      <th>[0.025</th>\n",
       "      <th>0.975]</th>\n",
       "    </tr>\n",
       "  </thead>\n",
       "  <tbody>\n",
       "    <tr>\n",
       "      <th>const</th>\n",
       "      <td>47660.729270</td>\n",
       "      <td>3080.344936</td>\n",
       "      <td>15.472530</td>\n",
       "      <td>1.097298e-16</td>\n",
       "      <td>41393.720377</td>\n",
       "      <td>53927.738163</td>\n",
       "    </tr>\n",
       "    <tr>\n",
       "      <th>x1</th>\n",
       "      <td>0.858217</td>\n",
       "      <td>0.035115</td>\n",
       "      <td>24.439867</td>\n",
       "      <td>1.030995e-22</td>\n",
       "      <td>0.786774</td>\n",
       "      <td>0.929660</td>\n",
       "    </tr>\n",
       "  </tbody>\n",
       "</table>\n",
       "</div>"
      ],
      "text/plain": [
       "              Coef.     Std.Err.          t         P>|t|        [0.025  \\\n",
       "const  47660.729270  3080.344936  15.472530  1.097298e-16  41393.720377   \n",
       "x1         0.858217     0.035115  24.439867  1.030995e-22      0.786774   \n",
       "\n",
       "             0.975]  \n",
       "const  53927.738163  \n",
       "x1         0.929660  "
      ]
     },
     "execution_count": 162,
     "metadata": {},
     "output_type": "execute_result"
    }
   ],
   "source": [
    "# Step 1: Add a constant column for the intercept term\n",
    "X_train = sm.add_constant(X_train)\n",
    "\n",
    "# Step 2: Fit the initial model with all independent variables\n",
    "model = sm.OLS(y_train, X_train).fit()\n",
    "\n",
    "# Step 3: Perform backward elimination\n",
    "while True:\n",
    "    # Step 3a: Get the p-values for each coefficient\n",
    "    p_values = model.pvalues[1:]  # Exclude the constant term\n",
    "    \n",
    "    # Step 3b: Find the variable with the highest p-value\n",
    "    max_p_value = max(p_values)\n",
    "    if max_p_value > 0.05:  # Set your significance level (e.g., 0.05)\n",
    "        # Step 3c: Remove the variable with the highest p-value\n",
    "        variable_to_remove = np.argmax(p_values) + 1\n",
    "        X_train = np.delete(X_train, variable_to_remove, axis=1)\n",
    "        model = sm.OLS(y_train, X_train).fit()\n",
    "    else:\n",
    "        break\n",
    "\n",
    "# Step 4: Print the final model summary\n",
    "model.summary2().tables[1]"
   ]
  }
 ],
 "metadata": {
  "colab": {
   "authorship_tag": "ABX9TyPhYhte6t7H4wEK4xPpDWT7",
   "name": "Multiple Linear Regression",
   "provenance": [],
   "toc_visible": true
  },
  "kernelspec": {
   "display_name": "Python 3 (ipykernel)",
   "language": "python",
   "name": "python3"
  },
  "language_info": {
   "codemirror_mode": {
    "name": "ipython",
    "version": 3
   },
   "file_extension": ".py",
   "mimetype": "text/x-python",
   "name": "python",
   "nbconvert_exporter": "python",
   "pygments_lexer": "ipython3",
   "version": "3.10.9"
  }
 },
 "nbformat": 4,
 "nbformat_minor": 1
}
